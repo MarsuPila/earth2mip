{
 "cells": [
  {
   "cell_type": "markdown",
   "id": "75733d9d",
   "metadata": {},
   "source": [
    "# Running Ensemble Inference in Earth-2 MIP"
   ]
  },
  {
   "cell_type": "markdown",
   "id": "cc957666",
   "metadata": {},
   "source": [
    "The following notebook demostrates how to use Earth-2 MIP's config schema and builtin inference workflows to perform ensemmble inference of the FourCastNetv2 small (FCNv2-sm) weather model and of the Pangu weather model with an intial state pulled from the Climate Data Store (CDS) and perturbed with random noise. The ensemble output will then be loaded into an Xarray Dataset and some sample data analysis is provided.\n",
    "\n",
    "In summary this notebook will cover the following topics:\n",
    "\n",
    "- Configuring and setting up FCNv2 and Pangu model registries\n",
    "- An ensemble configuration file\n",
    "- Running ensemble inference in Earth-2 MIP to produce an xarray DataSet\n",
    "- Post processing results"
   ]
  },
  {
   "cell_type": "markdown",
   "id": "af1b8718",
   "metadata": {},
   "source": [
    "## Set Up\n",
    "\n",
    "Starting off with imports, hopefully you have already installed Earth-2 MIP from this repository. There are a few additional packages needed. Lets install these first."
   ]
  },
  {
   "cell_type": "code",
   "execution_count": null,
   "id": "abc1edf7",
   "metadata": {
    "vscode": {
     "languageId": "bat"
    }
   },
   "outputs": [],
   "source": [
    "%%capture\n",
    "!pip install cartopy"
   ]
  },
  {
   "cell_type": "code",
   "execution_count": null,
   "id": "261f8a9d",
   "metadata": {},
   "outputs": [],
   "source": [
    "# For running inference we dont need much\n",
    "import os, json, logging\n",
    "import xarray\n",
    "from torch import distributed\n",
    "from modulus.distributed.manager import DistributedManager"
   ]
  },
  {
   "cell_type": "markdown",
   "id": "25ab33a6",
   "metadata": {},
   "source": [
    "Prior to importing Earth-2 MIP, its critical we set up a few enviroment variables which will help Earth-2 MIP get configured correctly under the hood. There are a number of different global configuration options, the ones will will set here are:\n",
    "\n",
    "- `WORLD_SIZE`: Tells Earth-2 MIP (which uses Modulus under the hood) the number of GPUs present\n",
    "- `MODEL_REGISTRY`: This variable tells Earth-2 MIP where look for a model registery\n",
    "\n",
    "*Key Concept*: A model registry is a folder that Earth-2 MIP will explore to find model checkpoints to load. A folder containing the required fileds is referred to as a \"model package\". Model packages typically consist of a few files including:\n",
    "- `weights.tar`: the Pytorch model checkpoint to load\n",
    "- `metadata.json`: a JSON file that contains meta info regarding various details for using the model\n",
    "- `config.json`: constains parameters needed to instantiate the model object in python\n",
    "- `global_means.npy`: A numpy array containing the mean values used for normalization of data in the model\n",
    "- `global_std.npy`: A numpy array containing the standard deviation values used for normalization of data in the model"
   ]
  },
  {
   "cell_type": "code",
   "execution_count": null,
   "id": "d40414f1",
   "metadata": {},
   "outputs": [],
   "source": [
    "# Set number of GPUs to use to 1\n",
    "os.environ['WORLD_SIZE'] = '1'\n",
    "# Set model registry as a local folder\n",
    "model_registry = os.path.join(os.path.dirname(os.path.realpath(os. getcwd())), \"models\")\n",
    "os.makedirs(model_registry, exist_ok=True)\n",
    "os.environ['MODEL_REGISTRY'] = model_registry\n",
    "logging.basicConfig(level=logging.INFO)\n",
    "\n",
    "# With the enviroment variables set now we import Earth-2 MIP\n",
    "from earth2mip.inference_ensemble import get_model, run_inference, get_initializer\n",
    "from earth2mip.schema import EnsembleRun"
   ]
  },
  {
   "cell_type": "markdown",
   "id": "460e1d37",
   "metadata": {},
   "source": [
    "The cell above created a model registry folder for us, but if this is your first notebook its likely empty. Lets fix that. As previously metioned we will be using the FCNv2-sm weather model with the checkpoint provided on the Nvidia Modulus model registry and the Pangu weather model with the checkpoint provided by ECMWF. The model is shipped via a zip folder containing the required checkpoint files discussed above."
   ]
  },
  {
   "cell_type": "code",
   "execution_count": null,
   "id": "7b87ac02",
   "metadata": {},
   "outputs": [],
   "source": [
    "import subprocess\n",
    "if not os.path.isdir(os.path.join(model_registry, 'fcnv2_sm')):\n",
    "    print(\"Downloading model checkpoint, this may take a bit\")\n",
    "    subprocess.run(['wget', '-nc', '-P', f'{model_registry}', 'https://api.ngc.nvidia.com/v2/models/nvidia/modulus/modulus_fcnv2_sm/versions/v0.2/files/fcnv2_sm.zip'], stdout=subprocess.DEVNULL, stderr=subprocess.STDOUT)\n",
    "    subprocess.run(['unzip', '-u', f'{model_registry}/fcnv2_sm.zip', '-d', f'{model_registry}'])\n",
    "    subprocess.run(['rm', f'{model_registry}/fcnv2_sm.zip'])\n",
    "\n",
    "if not os.path.isdir(os.path.join(model_registry, 'pangu')):\n",
    "    pangu_registry = os.path.join(model_registry, \"pangu\")\n",
    "    os.makedirs(pangu_registry, exist_ok=True)\n",
    "    # Wget onnx files\n",
    "    print(\"Downloading model checkpoint, this may take a bit\")\n",
    "    subprocess.run(['wget', '-nc', '-P', f'{pangu_registry}', 'https://get.ecmwf.int/repository/test-data/ai-models/pangu-weather/pangu_weather_24.onnx'], stdout=subprocess.DEVNULL, stderr=subprocess.STDOUT)\n",
    "    subprocess.run(['wget', '-nc', '-P', f'{pangu_registry}', 'https://get.ecmwf.int/repository/test-data/ai-models/pangu-weather/pangu_weather_6.onnx'], stdout=subprocess.DEVNULL, stderr=subprocess.STDOUT)\n",
    "\n",
    "    with open(os.path.join(pangu_registry, 'metadata.json'), 'w') as outfile:\n",
    "        json.dump({\"entrypoint\": {\"name\": \"earth2mip.networks.pangu:load\"}}, outfile, indent=2)"
   ]
  },
  {
   "cell_type": "markdown",
   "id": "57884e1f",
   "metadata": {},
   "source": [
    "The final setup step is to set up your CDS API key so we can access ERA5 data to act as an initial state. Earth-2 MIP supports a number of different initial state data sources that are supported including HDF5, CDS, GFS, etc. The CDS initial state provides a convenient way to access a limited amount of historical weather data. Its recommended for accessing an initial state, but larger data requirements should use locally stored weather datasets.\n",
    "\n",
    "Enter your CDS API uid and key below (found under your profile page). If you don't a CDS API key, find out more here.\n",
    "- [https://cds.climate.copernicus.eu/cdsapp#!/home](https://cds.climate.copernicus.eu/cdsapp#!/home)\n",
    "- [https://cds.climate.copernicus.eu/api-how-to](https://cds.climate.copernicus.eu/api-how-to)"
   ]
  },
  {
   "cell_type": "code",
   "execution_count": null,
   "id": "30da6d27",
   "metadata": {},
   "outputs": [],
   "source": [
    "# Run this cell and input your credentials in the notebook\n",
    "cds_api = os.path.join(os.path.expanduser(\"~\"), '.cdsapirc')\n",
    "if not os.path.exists(cds_api):\n",
    "    uid = input(\"Enter in CDS UID (e.g. 654321)\")\n",
    "    key = input(\"Enter your CDS API key (e.g. 12345678-1234-1234-1234-123456123456)\")\n",
    "    # Write to config file for CDS library\n",
    "    with open(cds_api, 'w') as f:\n",
    "        f.write('url: https://cds.climate.copernicus.eu/api/v2\\n')\n",
    "        f.write(f'key: {uid}:{key}\\n')"
   ]
  },
  {
   "cell_type": "markdown",
   "id": "2799cf13",
   "metadata": {},
   "source": [
    "## Running Inference\n",
    "\n",
    "To run inference we will use the `earth2mip/ensemble_inference.py` part of Earth-2 MIP. When this Python file, we provide either a config JSON file or a JSON serialized string for it to parse. This config contains the information regarding how the model should run inference. The schema of this can be found in `earth2mip/schema/EnsembleRun`.\n",
    "\n",
    "Since we are working in a notebook, lets create this config Pythonically. There are quite a few parameters that can be used, but lets focus in on a few key ones:\n",
    "\n",
    "- `ensemble_members`: Number ensemble members in the forecast\n",
    "- `noise_amplitude`: The amplitude of the noise pertibation method (we find that a good value to start with is `0.05`, feel free to experiment)\n",
    "- `simulation_length`: Number of (6h) time-steps to predict\n",
    "- `weather_event`: This defines the weather event as a combination of an initial time and a domain. \n",
    "    * The domain property defines the IO, ,by telling Earth-2 MIP for what regions (if `window`) or points (if `multipoint`) data should be stored. It also defines the `channels` and the diagnostic.  In this example the global field is recorded for the `t2m` and `u10m` channels. You can further also explore the `diagnostics` options in Diagnostics class in earth2mip/Diagnostics.py.\n",
    "- `output_path`: The output location of the ensemble prediction netCDF file\n",
    "- `weather_model`: The model ID to run. This MUST match the name of the model registry folder with your checkpoint files. So for this example its either `fcnv2_sm` or `pangu`. Also, pay attention that the diagnostics channels are actually included in the weather model of your choice. You can find out channel names by calling `model.channel_names` after calling `get_model`, or just looking up the files under `earth2mip/networks/{weather_model}.py`\n",
    "\n",
    "Note: While in later notebooks we will demonstrate more Pythonic methods to interact with Earth-2 MIP's APIs, the built in inference workflows provide a high-degree of control with little to no programming.\n",
    "\n",
    "The following config is base config defining initial condition, prediction length and output domains and variables. The weather model will be defined before running the model. Note that here we chose two output domains: the first domain is a lat/lon box over central and eastern Europe, the second domain consists of a list of lat/lon points."
   ]
  },
  {
   "cell_type": "code",
   "execution_count": null,
   "id": "c174b32f",
   "metadata": {},
   "outputs": [],
   "source": [
    "base_config = {\n",
    "    \"ensemble_members\": 4,\n",
    "    \"noise_amplitude\": 0.01,\n",
    "    \"simulation_length\": 80,\n",
    "    \"weather_event\": {\n",
    "        \"properties\": {\n",
    "            \"name\": \"Globe\",\n",
    "            \"start_time\": \"2022-07-01 00:00:00\",\n",
    "            \"initial_condition_source\": \"cds\"\n",
    "        },\n",
    "        \"domains\": [\n",
    "            {\n",
    "                \"name\": \"eu\",\n",
    "                \"type\": \"Window\",\n",
    "                \"lat_min\": 36,\n",
    "                \"lat_max\": 71,\n",
    "                \"lon_min\": 0,\n",
    "                \"lon_max\": 35,\n",
    "                \"diagnostics\": [\n",
    "                    {\n",
    "                        \"type\": \"raw\",\n",
    "                        \"channels\": [\n",
    "                            \"t2m\",\n",
    "                            \"u10m\"\n",
    "                        ]\n",
    "                    }\n",
    "                ]\n",
    "            },\n",
    "            {\n",
    "                \"name\": \"eu_cities\",\n",
    "                \"type\": \"MultiPoint\",\n",
    "                \"lat\": [48.75, 43.50],\n",
    "                \"lon\": [2.50, 5.25],\n",
    "                \"diagnostics\": [\n",
    "                    {\n",
    "                        \"type\": \"raw\",\n",
    "                        \"channels\": [\n",
    "                            \"t2m\",\n",
    "                            \"u10m\"\n",
    "                        ]\n",
    "                    }\n",
    "                ]\n",
    "            }\n",
    "        ]\n",
    "    },\n",
    "    \"output_frequency\": 1,\n",
    "    \"seed\": 12345,\n",
    "    \"use_cuda_graphs\": False,\n",
    "    \"ensemble_batch_size\": 1,\n",
    "    \"autocast_fp16\": False,\n",
    "    \"perturbation_strategy\": \"correlated\",\n",
    "    \"noise_reddening\": 2.0\n",
    "}"
   ]
  },
  {
   "cell_type": "markdown",
   "id": "94ab6807",
   "metadata": {},
   "source": [
    "Now we run the `main()` function in `earth2mip.inference_ensemble` providing our config object which will run inference with the following steps:\n",
    "\n",
    "1. Instantiate and load the FCNv2 small weather model onto the device\n",
    "2. Download the initial state data needed from CDS using your saved API key\n",
    "3. Perturb the initial state based on the parameters in the config and run a forecast predicton\n",
    "4. Save output Xarray dataset to NetCDF file located in `../outputs/01_ensemble_notebook`\n",
    "\n",
    "(the process may take a while!)"
   ]
  },
  {
   "cell_type": "code",
   "execution_count": null,
   "id": "e63794c6",
   "metadata": {},
   "outputs": [],
   "source": [
    "weather_model = 'fcnv2_sm' # 'fcnv2_sm' or 'pangu' for this example\n",
    "\n",
    "model_config = {\"weather_model\": weather_model,\n",
    "                \"output_path\": f\"../outputs/04_nov_dem/{weather_model}\",}\n",
    "config: EnsembleRun = EnsembleRun.parse_obj(base_config | model_config)"
   ]
  },
  {
   "cell_type": "markdown",
   "id": "28c290a5",
   "metadata": {},
   "source": [
    "Tell the programm which hardware to use by initialising the distributed manager. then load the model and inital conditions, then perform inference (This might take a couple of minutes, depending on ensemble size. Impact of lead time is not that big.)"
   ]
  },
  {
   "cell_type": "code",
   "execution_count": null,
   "id": "294dec7a",
   "metadata": {},
   "outputs": [],
   "source": [
    "# Set up parallel\n",
    "DistributedManager.initialize()\n",
    "device = DistributedManager().device\n",
    "group = distributed.group.WORLD\n",
    "\n",
    "# load model to device, get initial conditions and run inference\n",
    "print(f\"Loading model onto device {device}\")\n",
    "model = get_model(config.weather_model, device=device)\n",
    "print(\"Constructing initializer data source\")\n",
    "perturb = get_initializer(model, config, )\n",
    "print(\"Running inference\")\n",
    "run_inference(model, config, perturb, group)"
   ]
  },
  {
   "cell_type": "markdown",
   "id": "54c1699d",
   "metadata": {},
   "source": [
    "When the inference is complete we can examine the output in `../ouputs/04_nov_dem/{weather_model}/ensemble_out_0.nc`. \n",
    "\n",
    "Note: if the inference is distributed across N GPUs there will be `ensemble_out_0.nc`,`ensemble_out_1.nc`, ... `ensemble_out_N-1.nc` output files. \n",
    "In this case a function like this could concat the files to a single xarray DataArray:\n",
    "\n",
    "```python\n",
    "def _open(f, domain, time, chunks={\"time\": 1}):\n",
    "    root = xarray.open_dataset(f, decode_times=False)\n",
    "    ds = xarray.open_dataset(f, chunks=chunks, group=domain)\n",
    "    ds.attrs = root.attrs\n",
    "    return ds.assign_coords(time=lead_time)\n",
    "\n",
    "\n",
    "def open_ensemble(path, domain, time):\n",
    "    path = pathlib.Path(path)\n",
    "    ensemble_files = list(path.glob(\"ensemble_out_*.nc\"))\n",
    "    return xarray.concat(\n",
    "        [_open(f, group, time) for f in ensemble_files], dim=\"ensemble\"\n",
    "    )\n",
    "```\n",
    "\n",
    "(TODO: Move this into a parallel inference notebook!)\n",
    "\n",
    "But with our single NetCDF file we can load it into a [Xarray Dataset](https://docs.xarray.dev/en/stable/generated/xarray.Dataset.html) with just a few lines of code. All you need to do is specify the model and which of the domains defined in your config you want to look at."
   ]
  },
  {
   "cell_type": "code",
   "execution_count": null,
   "id": "44c6d6cb",
   "metadata": {},
   "outputs": [],
   "source": [
    "domain_idx = 0\n",
    "weather_model = 'fcnv2_sm'\n",
    "\n",
    "def open_ensemble(f, domain, chunks={\"time\": 1}):\n",
    "    time = xarray.open_dataset(f).time\n",
    "    root = xarray.open_dataset(f, decode_times=False)\n",
    "    ds = xarray.open_dataset(f, chunks=chunks, group=domain)\n",
    "    ds.attrs = root.attrs\n",
    "    return ds.assign_coords(time=time)\n",
    "\n",
    "dat_file = f\"../outputs/04_nov_dem/{weather_model}/ensemble_out_0.nc\"\n",
    "root = xarray.open_dataset(dat_file, decode_times=False)\n",
    "config = json.loads(root.attrs['config'])\n",
    "domain = config['weather_event'][\"domains\"][domain_idx]\n",
    "ds = open_ensemble(dat_file, domain['name'])\n",
    "ds"
   ]
  },
  {
   "cell_type": "markdown",
   "id": "42d027fd",
   "metadata": {},
   "source": [
    "## Post Processing\n",
    "\n",
    "With inference complete, now the fun part: post processing and analysis!\n",
    "You can manipulate the data to your hearts content now that its in an Xarray Dataset.\n",
    "Here we will demonstrate some common plotting / analysis workflows one may be interested.\n",
    "Lets start off with importing all our post processing packages."
   ]
  },
  {
   "cell_type": "code",
   "execution_count": null,
   "id": "88f5637a",
   "metadata": {},
   "outputs": [],
   "source": [
    "import numpy as np\n",
    "import pandas as pd\n",
    "import matplotlib as mpl\n",
    "import cartopy.crs as ccrs\n",
    "import cartopy.feature as cfeature\n",
    "import matplotlib.pyplot as plt\n",
    "import matplotlib.colors as mcolors\n",
    "from io import StringIO\n",
    "from matplotlib.colors import TwoSlopeNorm\n",
    "from datetime import datetime, timedelta\n",
    "\n",
    "countries = cfeature.NaturalEarthFeature(\n",
    "    category='cultural',\n",
    "    name='admin_0_countries',\n",
    "    scale='50m',\n",
    "    facecolor='none',\n",
    "    edgecolor='black'\n",
    ")"
   ]
  },
  {
   "cell_type": "markdown",
   "id": "244ad729",
   "metadata": {},
   "source": [
    "Up first, we can plot a time series of the value of a variable (or statistics of that variable) at a given location (lat/lon coord). We can either select one of the points of the MultiPoints domain, or choose a point included in the window domain. Make sure to load the associated domain in the cell which opens the data set."
   ]
  },
  {
   "cell_type": "code",
   "execution_count": null,
   "id": "1fe5d1b5",
   "metadata": {},
   "outputs": [],
   "source": [
    "# plot time series of points\n",
    "if domain['type'] == 'MultiPoint':\n",
    "    selection = 0 # id of point\n",
    "    loc = ds.sel(npoints=selection)\n",
    "    _lat, _lon = float(loc.lat_point), float(loc.lon_point)\n",
    "elif domain['type'] == 'Window':\n",
    "    selection = (50.5, 13.5) # lat/lon coords of point of interest\n",
    "    loc = ds.sel(lat=selection[0], lon=selection[1])\n",
    "    _lat, _lon = selection\n",
    "else:\n",
    "    raise ValueError(f'plotting time series not implemented for domain type {domain[\"type\"]}')\n",
    "\n",
    "lead_time = np.array((pd.to_datetime(ds.time) - pd.to_datetime(ds.time)[0]).total_seconds()/3600)\n",
    "fig = plt.figure(figsize=(9, 6))\n",
    "fig.suptitle(f'Model: {config[\"weather_model\"]}\\n lat={_lat}, lon={_lon}\\ninitial condidtion: {config[\"weather_event\"][\"properties\"][\"start_time\"]}')\n",
    "\n",
    "ax = fig.add_subplot(311)\n",
    "ax.set_title('Ensemble members')\n",
    "ax.plot(lead_time, loc.t2m.T)\n",
    "ax.set_ylabel('t2m [K]')\n",
    "\n",
    "ax = fig.add_subplot(312)\n",
    "ax.set_title('deviation from ensemble mean')\n",
    "ax.plot(lead_time, loc.t2m.T-loc.t2m.mean(\"ensemble\"))\n",
    "ax.set_ylabel('t2m [K]')\n",
    "\n",
    "ax = fig.add_subplot(313)\n",
    "ax.set_title('ensemble spread')\n",
    "ax.plot(lead_time, loc.t2m.std(\"ensemble\"))\n",
    "ax.set_xlabel('lead_time [h]')\n",
    "ax.set_ylabel('std t2m [K]')\n",
    "plt.tight_layout()"
   ]
  },
  {
   "cell_type": "markdown",
   "id": "4dfe12f1",
   "metadata": {},
   "source": [
    "Next, lets plot some fields of 10m eastward wind. Since we have an ensemble of predictions, lets display the first ensemble member, which is deterministic member, and also the last ensemble member and the ensemmble standard deviation. Try increasing the amplitude in the config or changing pertibation type to see what happens."
   ]
  },
  {
   "cell_type": "code",
   "execution_count": null,
   "id": "b01265c1",
   "metadata": {},
   "outputs": [],
   "source": [
    "time_step = -1 # choose a time step, -1 for last\n",
    "\n",
    "assert domain['type'] == 'Window', print('only for Window domain')\n",
    "cen_lat = ds.lat.mean().item()\n",
    "cen_lon = ds.lon.mean().item()\n",
    "\n",
    "fig = plt.figure(figsize=(15, 6.5))\n",
    "plt.rcParams['figure.dpi'] = 100\n",
    "proj = ccrs.NearsidePerspective(central_longitude=cen_lon, central_latitude=cen_lat)\n",
    "lead_time = np.array((pd.to_datetime(ds.time) - pd.to_datetime(ds.time)[0]).total_seconds()/3600)\n",
    "fig.suptitle(f'Model: {config[\"weather_model\"]}\\n time: {str(ds.time[time_step].values)}\\ninitial condidtion: {config[\"weather_event\"][\"properties\"][\"start_time\"]}\\nlead time: {lead_time[time_step]}h')\n",
    "\n",
    "data = ds.u10m[0,time_step,:,:]\n",
    "norm = mcolors.CenteredNorm(vcenter=0)\n",
    "ax = fig.add_subplot(131, projection=proj)\n",
    "ax.set_title('First ensemble member u10m [m/s]')\n",
    "img = ax.pcolormesh(ds.lon, ds.lat, data, transform=ccrs.PlateCarree(), norm=norm, cmap=\"seismic\")\n",
    "ax.coastlines(linewidth=1)\n",
    "ax.add_feature(countries, edgecolor='black', linewidth=0.25)\n",
    "plt.colorbar(img, ax=ax, shrink=0.80, norm=mcolors.CenteredNorm(vcenter=0))\n",
    "gl = ax.gridlines(draw_labels=True, linestyle='--')\n",
    "gl.bottom_labels=False\n",
    "gl.right_labels=False\n",
    "\n",
    "data = ds.u10m[-1,time_step,:,:]\n",
    "ax = fig.add_subplot(132, projection=proj)\n",
    "plt.rcParams['figure.dpi'] = 100\n",
    "proj = ccrs.NearsidePerspective(central_longitude=cen_lon, central_latitude=cen_lat)\n",
    "ax.set_title('Last ensemble member u10m [m/s]')\n",
    "img = ax.pcolormesh(ds.lon, ds.lat, data, transform=ccrs.PlateCarree(), norm=norm, cmap=\"seismic\")\n",
    "ax.coastlines(linewidth=1)\n",
    "ax.add_feature(countries, edgecolor='black', linewidth=0.25)\n",
    "plt.colorbar(img, ax=ax, shrink=0.80, norm=mcolors.CenteredNorm(vcenter=0))\n",
    "gl = ax.gridlines(draw_labels=True, linestyle='--')\n",
    "gl.bottom_labels=False\n",
    "gl.right_labels=False\n",
    "\n",
    "ds_ensemble_std = ds.std(dim = \"ensemble\")\n",
    "data = ds_ensemble_std.u10m[-1,:,:]\n",
    "proj = ccrs.NearsidePerspective(central_longitude=cen_lon, central_latitude=cen_lat)\n",
    "ax = fig.add_subplot(133, projection=proj)\n",
    "ax.set_title('ensemble std u10m [m/s]')\n",
    "img = ax.pcolormesh(ds.lon, ds.lat, data, transform=ccrs.PlateCarree(), cmap=\"plasma\")\n",
    "ax.coastlines(linewidth=1)\n",
    "ax.add_feature(countries, edgecolor='black', linewidth=0.25)\n",
    "plt.colorbar(img, ax=ax, shrink=0.80, norm=mcolors.CenteredNorm(vcenter=0))\n",
    "gl = ax.gridlines(draw_labels=True, linestyle='--')\n",
    "gl.bottom_labels=False\n",
    "gl.right_labels=False\n",
    "\n",
    "plt.tight_layout()"
   ]
  },
  {
   "cell_type": "markdown",
   "id": "5b656e89",
   "metadata": {},
   "source": [
    "And that completes the introductory notebook into running ensemble weather predictions with AI. In the next notebook, we will look at running different models using more Pythonic APIs and plotting geopotential fields. "
   ]
  }
 ],
 "metadata": {
  "kernelspec": {
   "display_name": "Python 3 (ipykernel)",
   "language": "python",
   "name": "python3"
  },
  "language_info": {
   "codemirror_mode": {
    "name": "ipython",
    "version": 3
   },
   "file_extension": ".py",
   "mimetype": "text/x-python",
   "name": "python",
   "nbconvert_exporter": "python",
   "pygments_lexer": "ipython3",
   "version": "3.10.6"
  },
  "vscode": {
   "interpreter": {
    "hash": "767d51c1340bd893661ea55ea3124f6de3c7a262a8b4abca0554b478b1e2ff90"
   }
  }
 },
 "nbformat": 4,
 "nbformat_minor": 5
}
